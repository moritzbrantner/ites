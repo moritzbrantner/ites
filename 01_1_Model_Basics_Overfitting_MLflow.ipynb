{
  "nbformat": 4,
  "nbformat_minor": 0,
  "metadata": {
    "kernelspec": {
      "display_name": "Python 3",
      "language": "python",
      "name": "python3"
    },
    "language_info": {
      "codemirror_mode": {
        "name": "ipython",
        "version": 3
      },
      "file_extension": ".py",
      "mimetype": "text/x-python",
      "name": "python",
      "nbconvert_exporter": "python",
      "pygments_lexer": "ipython3",
      "version": "3.7.4"
    },
    "colab": {
      "name": "Copy of 01_1_Model-Basics_Overfitting_MLflow.ipynb",
      "provenance": [],
      "collapsed_sections": [],
      "include_colab_link": true
    }
  },
  "cells": [
    {
      "cell_type": "markdown",
      "metadata": {
        "id": "view-in-github",
        "colab_type": "text"
      },
      "source": [
        "<a href=\"https://colab.research.google.com/github/moritzbrantner/ites/blob/master/01_1_Model_Basics_Overfitting_MLflow.ipynb\" target=\"_parent\"><img src=\"https://colab.research.google.com/assets/colab-badge.svg\" alt=\"Open In Colab\"/></a>"
      ]
    },
    {
      "cell_type": "markdown",
      "metadata": {
        "id": "KPuKF7Oe63bZ",
        "colab_type": "text"
      },
      "source": [
        "# Basics of Deep Learning Projects\n",
        "\n",
        "\n",
        "Subject of this notebook is to teach fundamental properties of deep learning projects. It is important being able to reproduce different runs of model training, as well as different runs should be comparable to each other. For this, we will use [MLflow](https://mlflow.org/), which is an open source platform to manage the ML lifecycle, including experimentation, reproducibility and deployment. It currently offers three components:\n",
        "\n",
        "* MLflow Tracking: Record and query experiments: code, data, config, and results.\n",
        "* MLflow Projects: Packaging format for reproducible runs on any platform.\n",
        "* MLflow Models: General format for sending models to diverse deployment tools.\n",
        "\n",
        "ToDo's:\n",
        "\n",
        "* Define different neural networks using `tf.keras`.\n",
        "* Train them and monitor the training using TensorBoard and MLflow\n",
        "* Try to intentionally overfit the training set. There are multiple ways to achieve this. \n",
        "* Compare different runs using MLflow. Can you spot the point where overfitting happened?\n",
        "\n",
        "\n",
        "Help:\n",
        "* [TensorFLow API Documentation](https://www.tensorflow.org/api_docs)\n",
        "* [MLflow Documentation](https://mlflow.org/docs/latest/index.html)\n"
      ]
    },
    {
      "cell_type": "code",
      "metadata": {
        "id": "ySlOxg1GOq0q",
        "colab_type": "code",
        "colab": {
          "base_uri": "https://localhost:8080/",
          "height": 122
        },
        "outputId": "16d46389-fbba-46af-95de-f9a1322b5327"
      },
      "source": [
        "from google.colab import drive\n",
        "drive.mount('/content/drive', force_remount=True)"
      ],
      "execution_count": 5,
      "outputs": [
        {
          "output_type": "stream",
          "text": [
            "Go to this URL in a browser: https://accounts.google.com/o/oauth2/auth?client_id=947318989803-6bn6qk8qdgf4n4g3pfee6491hc0brc4i.apps.googleusercontent.com&redirect_uri=urn%3aietf%3awg%3aoauth%3a2.0%3aoob&response_type=code&scope=email%20https%3a%2f%2fwww.googleapis.com%2fauth%2fdocs.test%20https%3a%2f%2fwww.googleapis.com%2fauth%2fdrive%20https%3a%2f%2fwww.googleapis.com%2fauth%2fdrive.photos.readonly%20https%3a%2f%2fwww.googleapis.com%2fauth%2fpeopleapi.readonly\n",
            "\n",
            "Enter your authorization code:\n",
            "··········\n",
            "Mounted at /content/drive\n"
          ],
          "name": "stdout"
        }
      ]
    },
    {
      "cell_type": "markdown",
      "metadata": {
        "id": "SKZo5lV263ba",
        "colab_type": "text"
      },
      "source": [
        "# Mount Google Drive as folder"
      ]
    },
    {
      "cell_type": "code",
      "metadata": {
        "id": "kaM6_-VW63bb",
        "colab_type": "code",
        "outputId": "0bc11f73-bf75-418f-be50-edb0d149e09f",
        "colab": {
          "base_uri": "https://localhost:8080/",
          "height": 51
        }
      },
      "source": [
        "from google.colab import drive\n",
        "drive.mount('/content/drive', force_remount=True)\n",
        "%cd /content/drive/My\\ Drive/Master/Modul\\ Maschinelles\\ Lernen/INFM\\ 220/ai-lab/cv/colab"
      ],
      "execution_count": 6,
      "outputs": [
        {
          "output_type": "stream",
          "text": [
            "Mounted at /content/drive\n",
            "/content/drive/My Drive/Master/Modul Maschinelles Lernen/INFM 220/ai-lab/cv/colab\n"
          ],
          "name": "stdout"
        }
      ]
    },
    {
      "cell_type": "markdown",
      "metadata": {
        "id": "ZXilHgiI63bf",
        "colab_type": "text"
      },
      "source": [
        "# Check GPU\n",
        "\n",
        "*   Google Colab can provide you with one of two Tesla graphics cards: K80 or T4\n",
        "*   Here you can check the GPU model"
      ]
    },
    {
      "cell_type": "code",
      "metadata": {
        "id": "e3gd_WEM63bf",
        "colab_type": "code",
        "colab": {
          "base_uri": "https://localhost:8080/",
          "height": 51
        },
        "outputId": "34cd6bd8-800a-473d-ee3b-3239305c912e"
      },
      "source": [
        "!nvidia-smi"
      ],
      "execution_count": 7,
      "outputs": [
        {
          "output_type": "stream",
          "text": [
            "NVIDIA-SMI has failed because it couldn't communicate with the NVIDIA driver. Make sure that the latest NVIDIA driver is installed and running.\n",
            "\n"
          ],
          "name": "stdout"
        }
      ]
    },
    {
      "cell_type": "code",
      "metadata": {
        "id": "OCwD1Hkj63bi",
        "colab_type": "code",
        "colab": {}
      },
      "source": [
        "%tensorflow_version 2.x"
      ],
      "execution_count": 0,
      "outputs": []
    },
    {
      "cell_type": "code",
      "metadata": {
        "id": "sOgpcwnB63bl",
        "colab_type": "code",
        "colab": {
          "base_uri": "https://localhost:8080/",
          "height": 1000
        },
        "outputId": "aa758718-6824-403f-b2b9-b0cff56ab31f"
      },
      "source": [
        "!pip install mlflow"
      ],
      "execution_count": 9,
      "outputs": [
        {
          "output_type": "stream",
          "text": [
            "Collecting mlflow\n",
            "\u001b[?25l  Downloading https://files.pythonhosted.org/packages/5e/6a/17c08e8a0217af999ecb5a4de788b42835636605302e73fb67117ba0757a/mlflow-1.7.2-py3-none-any.whl (16.0MB)\n",
            "\u001b[K     |████████████████████████████████| 16.0MB 268kB/s \n",
            "\u001b[?25hRequirement already satisfied: numpy in /usr/local/lib/python3.6/dist-packages (from mlflow) (1.18.2)\n",
            "Requirement already satisfied: cloudpickle in /usr/local/lib/python3.6/dist-packages (from mlflow) (1.3.0)\n",
            "Requirement already satisfied: requests>=2.17.3 in /usr/local/lib/python3.6/dist-packages (from mlflow) (2.21.0)\n",
            "Collecting gorilla\n",
            "  Downloading https://files.pythonhosted.org/packages/e3/56/5a683944cbfc77e429c6f03c636ca50504a785f60ffae91ddd7f5f7bb520/gorilla-0.3.0-py2.py3-none-any.whl\n",
            "Requirement already satisfied: pandas in /usr/local/lib/python3.6/dist-packages (from mlflow) (1.0.3)\n",
            "Requirement already satisfied: sqlparse in /usr/local/lib/python3.6/dist-packages (from mlflow) (0.3.1)\n",
            "Collecting simplejson\n",
            "\u001b[?25l  Downloading https://files.pythonhosted.org/packages/98/87/a7b98aa9256c8843f92878966dc3d8d914c14aad97e2c5ce4798d5743e07/simplejson-3.17.0.tar.gz (83kB)\n",
            "\u001b[K     |████████████████████████████████| 92kB 9.7MB/s \n",
            "\u001b[?25hCollecting gunicorn; platform_system != \"Windows\"\n",
            "\u001b[?25l  Downloading https://files.pythonhosted.org/packages/69/ca/926f7cd3a2014b16870086b2d0fdc84a9e49473c68a8dff8b57f7c156f43/gunicorn-20.0.4-py2.py3-none-any.whl (77kB)\n",
            "\u001b[K     |████████████████████████████████| 81kB 9.3MB/s \n",
            "\u001b[?25hRequirement already satisfied: entrypoints in /usr/local/lib/python3.6/dist-packages (from mlflow) (0.3)\n",
            "Collecting databricks-cli>=0.8.7\n",
            "\u001b[?25l  Downloading https://files.pythonhosted.org/packages/49/d1/fe0ba3d5c2b4b76ec035aa243bbc2fd0d60607a391f192ebe1656e17a4e2/databricks-cli-0.10.0.tar.gz (45kB)\n",
            "\u001b[K     |████████████████████████████████| 51kB 7.4MB/s \n",
            "\u001b[?25hRequirement already satisfied: click>=7.0 in /usr/local/lib/python3.6/dist-packages (from mlflow) (7.1.1)\n",
            "Requirement already satisfied: six>=1.10.0 in /usr/local/lib/python3.6/dist-packages (from mlflow) (1.12.0)\n",
            "Collecting sqlalchemy<=1.3.13\n",
            "\u001b[?25l  Downloading https://files.pythonhosted.org/packages/af/47/35edeb0f86c0b44934c05d961c893e223ef27e79e1f53b5e6f14820ff553/SQLAlchemy-1.3.13.tar.gz (6.0MB)\n",
            "\u001b[K     |████████████████████████████████| 6.0MB 39.0MB/s \n",
            "\u001b[?25hRequirement already satisfied: protobuf>=3.6.0 in /usr/local/lib/python3.6/dist-packages (from mlflow) (3.10.0)\n",
            "Requirement already satisfied: pyyaml in /usr/local/lib/python3.6/dist-packages (from mlflow) (3.13)\n",
            "Collecting docker>=4.0.0\n",
            "\u001b[?25l  Downloading https://files.pythonhosted.org/packages/58/74/379a9d30b1620def158c40b88c43e01c1936a287ebb97afab0699c601c57/docker-4.2.0-py2.py3-none-any.whl (143kB)\n",
            "\u001b[K     |████████████████████████████████| 153kB 43.7MB/s \n",
            "\u001b[?25hCollecting querystring-parser\n",
            "  Downloading https://files.pythonhosted.org/packages/4a/fa/f54f5662e0eababf0c49e92fd94bf178888562c0e7b677c8941bbbcd1bd6/querystring_parser-1.2.4.tar.gz\n",
            "Requirement already satisfied: python-dateutil in /usr/local/lib/python3.6/dist-packages (from mlflow) (2.8.1)\n",
            "Requirement already satisfied: Flask in /usr/local/lib/python3.6/dist-packages (from mlflow) (1.1.1)\n",
            "Collecting alembic<=1.4.1\n",
            "\u001b[?25l  Downloading https://files.pythonhosted.org/packages/e0/e9/359dbb77c35c419df0aedeb1d53e71e7e3f438ff64a8fdb048c907404de3/alembic-1.4.1.tar.gz (1.1MB)\n",
            "\u001b[K     |████████████████████████████████| 1.1MB 39.4MB/s \n",
            "\u001b[?25hCollecting prometheus-flask-exporter\n",
            "  Downloading https://files.pythonhosted.org/packages/74/72/167af24b6df90e1c9db21d4d3a1d67573f35a4ec2376eaebd1ac4e1bbf03/prometheus_flask_exporter-0.13.0.tar.gz\n",
            "Collecting gitpython>=2.1.0\n",
            "\u001b[?25l  Downloading https://files.pythonhosted.org/packages/d3/2f/6a366d56c9b1355b0880be9ea66b166cb3536392638d8d91413ec66305ad/GitPython-3.1.0-py3-none-any.whl (450kB)\n",
            "\u001b[K     |████████████████████████████████| 460kB 40.2MB/s \n",
            "\u001b[?25hRequirement already satisfied: certifi>=2017.4.17 in /usr/local/lib/python3.6/dist-packages (from requests>=2.17.3->mlflow) (2019.11.28)\n",
            "Requirement already satisfied: idna<2.9,>=2.5 in /usr/local/lib/python3.6/dist-packages (from requests>=2.17.3->mlflow) (2.8)\n",
            "Requirement already satisfied: urllib3<1.25,>=1.21.1 in /usr/local/lib/python3.6/dist-packages (from requests>=2.17.3->mlflow) (1.24.3)\n",
            "Requirement already satisfied: chardet<3.1.0,>=3.0.2 in /usr/local/lib/python3.6/dist-packages (from requests>=2.17.3->mlflow) (3.0.4)\n",
            "Requirement already satisfied: pytz>=2017.2 in /usr/local/lib/python3.6/dist-packages (from pandas->mlflow) (2018.9)\n",
            "Requirement already satisfied: setuptools>=3.0 in /usr/local/lib/python3.6/dist-packages (from gunicorn; platform_system != \"Windows\"->mlflow) (46.0.0)\n",
            "Requirement already satisfied: tabulate>=0.7.7 in /usr/local/lib/python3.6/dist-packages (from databricks-cli>=0.8.7->mlflow) (0.8.7)\n",
            "Collecting configparser>=0.3.5\n",
            "  Downloading https://files.pythonhosted.org/packages/4b/6b/01baa293090240cf0562cc5eccb69c6f5006282127f2b846fad011305c79/configparser-5.0.0-py3-none-any.whl\n",
            "Collecting websocket-client>=0.32.0\n",
            "\u001b[?25l  Downloading https://files.pythonhosted.org/packages/4c/5f/f61b420143ed1c8dc69f9eaec5ff1ac36109d52c80de49d66e0c36c3dfdf/websocket_client-0.57.0-py2.py3-none-any.whl (200kB)\n",
            "\u001b[K     |████████████████████████████████| 204kB 43.0MB/s \n",
            "\u001b[?25hRequirement already satisfied: Jinja2>=2.10.1 in /usr/local/lib/python3.6/dist-packages (from Flask->mlflow) (2.11.1)\n",
            "Requirement already satisfied: itsdangerous>=0.24 in /usr/local/lib/python3.6/dist-packages (from Flask->mlflow) (1.1.0)\n",
            "Requirement already satisfied: Werkzeug>=0.15 in /usr/local/lib/python3.6/dist-packages (from Flask->mlflow) (1.0.1)\n",
            "Collecting Mako\n",
            "\u001b[?25l  Downloading https://files.pythonhosted.org/packages/50/78/f6ade1e18aebda570eed33b7c534378d9659351cadce2fcbc7b31be5f615/Mako-1.1.2-py2.py3-none-any.whl (75kB)\n",
            "\u001b[K     |████████████████████████████████| 81kB 9.8MB/s \n",
            "\u001b[?25hCollecting python-editor>=0.3\n",
            "  Downloading https://files.pythonhosted.org/packages/c6/d3/201fc3abe391bbae6606e6f1d598c15d367033332bd54352b12f35513717/python_editor-1.0.4-py3-none-any.whl\n",
            "Requirement already satisfied: prometheus_client in /usr/local/lib/python3.6/dist-packages (from prometheus-flask-exporter->mlflow) (0.7.1)\n",
            "Collecting gitdb<5,>=4.0.1\n",
            "\u001b[?25l  Downloading https://files.pythonhosted.org/packages/1e/f5/8f84b3bf9d94bdf2454a302f2fa375832b53660ea532586b8a55ff16ae9a/gitdb-4.0.2-py3-none-any.whl (63kB)\n",
            "\u001b[K     |████████████████████████████████| 71kB 9.2MB/s \n",
            "\u001b[?25hRequirement already satisfied: MarkupSafe>=0.23 in /usr/local/lib/python3.6/dist-packages (from Jinja2>=2.10.1->Flask->mlflow) (1.1.1)\n",
            "Collecting smmap<4,>=3.0.1\n",
            "  Downloading https://files.pythonhosted.org/packages/35/d2/27777ab463cd44842c78305fa8097dfba0d94768abbb7e1c4d88f1fa1a0b/smmap-3.0.1-py2.py3-none-any.whl\n",
            "Building wheels for collected packages: simplejson, databricks-cli, sqlalchemy, querystring-parser, alembic, prometheus-flask-exporter\n",
            "  Building wheel for simplejson (setup.py) ... \u001b[?25l\u001b[?25hdone\n",
            "  Created wheel for simplejson: filename=simplejson-3.17.0-cp36-cp36m-linux_x86_64.whl size=114200 sha256=9a03e624072c9a44d7c09abff394338d181c83072cf3c212434b454612046123\n",
            "  Stored in directory: /root/.cache/pip/wheels/86/c0/83/dcd0339abb2640544bb8e0938aab2d069cef55e5647ce6e097\n",
            "  Building wheel for databricks-cli (setup.py) ... \u001b[?25l\u001b[?25hdone\n",
            "  Created wheel for databricks-cli: filename=databricks_cli-0.10.0-cp36-none-any.whl size=84285 sha256=e4d60bb1ed071f84f8dd27b9274b3fabd2195db7c288382ff64e62a3f7eb9564\n",
            "  Stored in directory: /root/.cache/pip/wheels/1e/e5/2d/a19c0bfd38005176063f130d72de17cb3d2d32c0ee384e7493\n",
            "  Building wheel for sqlalchemy (setup.py) ... \u001b[?25l\u001b[?25hdone\n",
            "  Created wheel for sqlalchemy: filename=SQLAlchemy-1.3.13-cp36-cp36m-linux_x86_64.whl size=1217160 sha256=7fb079d43c01a90924d9e2f321b6fb0222542ee0ae514e6063da621d668445d4\n",
            "  Stored in directory: /root/.cache/pip/wheels/b3/35/98/4c9cb3fd63d21d5606b972dd70643769745adf60e622467b71\n",
            "  Building wheel for querystring-parser (setup.py) ... \u001b[?25l\u001b[?25hdone\n",
            "  Created wheel for querystring-parser: filename=querystring_parser-1.2.4-cp36-none-any.whl size=7079 sha256=f3076ae93fc918667623ee58ec70e5db4bd5a28e12e805a56494c1edc3ed93c8\n",
            "  Stored in directory: /root/.cache/pip/wheels/1e/41/34/23ebf5d1089a9aed847951e0ee375426eb4ad0a7079d88d41e\n",
            "  Building wheel for alembic (setup.py) ... \u001b[?25l\u001b[?25hdone\n",
            "  Created wheel for alembic: filename=alembic-1.4.1-py2.py3-none-any.whl size=158154 sha256=96c03bf70cc5ffd092080c0c9f77506e40a6685c987f39d70235f7c16cb077cb\n",
            "  Stored in directory: /root/.cache/pip/wheels/84/07/f7/12f7370ca47a66030c2edeedcc23dec26ea0ac22dcb4c4a0f3\n",
            "  Building wheel for prometheus-flask-exporter (setup.py) ... \u001b[?25l\u001b[?25hdone\n",
            "  Created wheel for prometheus-flask-exporter: filename=prometheus_flask_exporter-0.13.0-cp36-none-any.whl size=14946 sha256=ac01b031da4196c7502ded342a76c9488b0a63538d9261f03f09ed3a3c9e7c89\n",
            "  Stored in directory: /root/.cache/pip/wheels/c8/2f/a3/c81e6aa99897467c82d523858738fb8c94d1d43e500da45dc2\n",
            "Successfully built simplejson databricks-cli sqlalchemy querystring-parser alembic prometheus-flask-exporter\n",
            "Installing collected packages: gorilla, simplejson, gunicorn, configparser, databricks-cli, sqlalchemy, websocket-client, docker, querystring-parser, Mako, python-editor, alembic, prometheus-flask-exporter, smmap, gitdb, gitpython, mlflow\n",
            "  Found existing installation: SQLAlchemy 1.3.15\n",
            "    Uninstalling SQLAlchemy-1.3.15:\n",
            "      Successfully uninstalled SQLAlchemy-1.3.15\n",
            "Successfully installed Mako-1.1.2 alembic-1.4.1 configparser-5.0.0 databricks-cli-0.10.0 docker-4.2.0 gitdb-4.0.2 gitpython-3.1.0 gorilla-0.3.0 gunicorn-20.0.4 mlflow-1.7.2 prometheus-flask-exporter-0.13.0 python-editor-1.0.4 querystring-parser-1.2.4 simplejson-3.17.0 smmap-3.0.1 sqlalchemy-1.3.13 websocket-client-0.57.0\n"
          ],
          "name": "stdout"
        }
      ]
    },
    {
      "cell_type": "code",
      "metadata": {
        "id": "sE9QMfW463bp",
        "colab_type": "code",
        "colab": {
          "base_uri": "https://localhost:8080/",
          "height": 34
        },
        "outputId": "af2bcfe9-d043-4124-cf60-e964a568064d"
      },
      "source": [
        "import tensorflow as tf\n",
        "import mlflow\n",
        "import numpy as np\n",
        "\n",
        "tf.__version__"
      ],
      "execution_count": 10,
      "outputs": [
        {
          "output_type": "execute_result",
          "data": {
            "text/plain": [
              "'2.2.0-rc2'"
            ]
          },
          "metadata": {
            "tags": []
          },
          "execution_count": 10
        }
      ]
    },
    {
      "cell_type": "code",
      "metadata": {
        "id": "gmDbfzc9h5et",
        "colab_type": "code",
        "colab": {
          "base_uri": "https://localhost:8080/",
          "height": 34
        },
        "outputId": "f2a05f82-fa21-4d0b-c724-93e9f10f484c"
      },
      "source": [
        "from google.colab import drive\n",
        "drive.mount('/content/drive')"
      ],
      "execution_count": 11,
      "outputs": [
        {
          "output_type": "stream",
          "text": [
            "Drive already mounted at /content/drive; to attempt to forcibly remount, call drive.mount(\"/content/drive\", force_remount=True).\n"
          ],
          "name": "stdout"
        }
      ]
    },
    {
      "cell_type": "code",
      "metadata": {
        "id": "5eg45AOx63bs",
        "colab_type": "code",
        "colab": {}
      },
      "source": [
        "# Set Experiment, so that we get all the results for this exercise grouped together.\n",
        "mlflow.set_experiment(\"Exercise 1: Fashion MNIST\")"
      ],
      "execution_count": 0,
      "outputs": []
    },
    {
      "cell_type": "code",
      "metadata": {
        "id": "wDE6I_2P63bv",
        "colab_type": "code",
        "colab": {}
      },
      "source": [
        "# ToDo: load the dataset from the file `data/fashion_mnist.npz`. \n",
        "# The data accesible using the key `data`, the labels as `label` respectively.\n",
        "with np.load('../data/fashion_mnist.npz') as fashion:\n",
        "    x = fashion[\"data\"]\n",
        "    y = fashion[\"label\"]"
      ],
      "execution_count": 0,
      "outputs": []
    },
    {
      "cell_type": "code",
      "metadata": {
        "id": "r1WE-b7d63bx",
        "colab_type": "code",
        "colab": {}
      },
      "source": [
        "import math\n",
        "\n",
        "def shuffle_split(x, y, at=0.8):\n",
        "    x_reshaped = x.reshape(70000, 784)\n",
        "    y_reshaped = y.reshape(70000, 1)\n",
        "    df = np.c_[x_reshaped, y_reshaped]\n",
        "    df_shuffled = np.random.shuffle(df)\n",
        "    \n",
        "    size = df.shape[0]\n",
        "    cut = math.floor(df.shape[0] * at)\n",
        "    df_train = df[0:cut]\n",
        "    df_test = df[cut:]\n",
        "    x_train = np.delete(df_train, 784, 1).reshape(cut, 28, 28) \n",
        "    x_test = np.delete(df_test, 784, 1).reshape(size-cut, 28, 28)\n",
        "    y_train = df_train[:,  [784]].reshape(cut)   \n",
        "    y_test = df_test[:,  [784]].reshape(size-cut)\n",
        "    return x_train, x_test, y_train, y_test\n",
        "    # ToDo: shuffle data and labels and perform train/test split at given fraction.\n",
        "\n",
        "x_train, x_test, y_train, y_test = shuffle_split(x, y, at=0.8)"
      ],
      "execution_count": 0,
      "outputs": []
    },
    {
      "cell_type": "code",
      "metadata": {
        "id": "cped7kmP63b0",
        "colab_type": "code",
        "colab": {}
      },
      "source": [
        "def normalize(data):\n",
        "  return (data.mean(axis=0) - data) / data.std(axis=0)\n",
        "\n",
        "# ToDo: normalize data\n",
        "x_train = normalize(x_train)\n",
        "x_test = normalize(x_test)"
      ],
      "execution_count": 0,
      "outputs": []
    },
    {
      "cell_type": "code",
      "metadata": {
        "id": "RCJqSPhn63b2",
        "colab_type": "code",
        "colab": {
          "base_uri": "https://localhost:8080/",
          "height": 136
        },
        "outputId": "8a8f9cc6-995f-4460-ed10-33bf7d1b2565"
      },
      "source": [
        "# print first 15 labels\n",
        "for i in range(15):\n",
        "    if i % 5 == 0:\n",
        "        print(\"\\n\")\n",
        "    print(y_train[i], end=' ')"
      ],
      "execution_count": 16,
      "outputs": [
        {
          "output_type": "stream",
          "text": [
            "\n",
            "\n",
            "5 8 1 8 8 \n",
            "\n",
            "5 2 8 2 4 \n",
            "\n",
            "4 5 7 0 3 "
          ],
          "name": "stdout"
        }
      ]
    },
    {
      "cell_type": "code",
      "metadata": {
        "id": "CUiMMOOA63b6",
        "colab_type": "code",
        "colab": {
          "base_uri": "https://localhost:8080/",
          "height": 262
        },
        "outputId": "98b27ca1-dd17-432b-b71a-58545302bb8d"
      },
      "source": [
        "# plots the first 15 entries in the train set\n",
        "import matplotlib.pyplot as plt\n",
        "%matplotlib inline\n",
        "\n",
        "for i in range(15):\n",
        "    plt.subplot(3, 5, i + 1)\n",
        "    plt.imshow(x_train[i], cmap='gray')"
      ],
      "execution_count": 17,
      "outputs": [
        {
          "output_type": "display_data",
          "data": {
            "image/png": "[encoded data removed]",
            "text/plain": [
              "<Figure size 432x288 with 15 Axes>"
            ]
          },
          "metadata": {
            "tags": []
          }
        }
      ]
    },
    {
      "cell_type": "code",
      "metadata": {
        "id": "CpYwfG8A63b_",
        "colab_type": "code",
        "colab": {}
      },
      "source": [
        "# ToDo: define input and output network parameters\n",
        "n_input =  (1, 28, 28)\n",
        "n_classes = 10"
      ],
      "execution_count": 0,
      "outputs": []
    },
    {
      "cell_type": "code",
      "metadata": {
        "id": "jmtasbf063cC",
        "colab_type": "code",
        "colab": {}
      },
      "source": [
        "# one hot encoding of labels\n",
        "def one_hot_encode(a, length):\n",
        "    temp = np.zeros((a.shape[0], length))\n",
        "    temp[np.arange(a.shape[0]), a] = 1\n",
        "    return temp\n",
        "\n",
        "y_train = one_hot_encode(y_train, n_classes)\n",
        "y_test = one_hot_encode(y_test, n_classes)"
      ],
      "execution_count": 0,
      "outputs": []
    },
    {
      "cell_type": "code",
      "metadata": {
        "id": "G_sGzOaSrMiO",
        "colab_type": "code",
        "colab": {}
      },
      "source": [
        "# Flatten\n",
        "x_train = x_train.reshape((-1, 784))\n",
        "x_test = x_test.reshape((-1, 784))"
      ],
      "execution_count": 0,
      "outputs": []
    },
    {
      "cell_type": "code",
      "metadata": {
        "id": "UZxOCekd63cH",
        "colab_type": "code",
        "colab": {}
      },
      "source": [
        "# TODO: define hyper parameters\n",
        "training_iters = 20\n",
        "learning_rate = 0.001\n",
        "batch_size = 10"
      ],
      "execution_count": 0,
      "outputs": []
    },
    {
      "cell_type": "code",
      "metadata": {
        "id": "5jDPY7V163cJ",
        "colab_type": "code",
        "colab": {}
      },
      "source": [
        "from tensorflow.python.keras.layers import Dense, Conv2D\n",
        "from tensorflow.python.keras import Sequential\n",
        "\n",
        "# ToDo: MLP definition\n",
        "model = tf.keras.models.Sequential([\n",
        "    Dense(64, activation='relu', input_shape=(784,))\n",
        "])\n",
        "model.add(Dense(10, activation='softmax'))"
      ],
      "execution_count": 0,
      "outputs": []
    },
    {
      "cell_type": "code",
      "metadata": {
        "id": "daBDxtq263cM",
        "colab_type": "code",
        "colab": {}
      },
      "source": [
        "# ToDo: define cost\n",
        "cost = tf.keras.losses.CategoricalCrossentropy(from_logits=True)\n",
        "# define optimizer\n",
        "optimizer = tf.keras.optimizers.Adam(0.01)"
      ],
      "execution_count": 0,
      "outputs": []
    },
    {
      "cell_type": "code",
      "metadata": {
        "id": "6Aven-TQ63cP",
        "colab_type": "code",
        "colab": {}
      },
      "source": [
        "# TODO: compile model with optimizer, loss function and validation metric\n",
        "model.compile(optimizer=optimizer,\n",
        "              loss=cost,\n",
        "              metrics=['accuracy'])"
      ],
      "execution_count": 0,
      "outputs": []
    },
    {
      "cell_type": "code",
      "metadata": {
        "id": "4MP0O4mQ63cS",
        "colab_type": "code",
        "colab": {
          "base_uri": "https://localhost:8080/",
          "height": 782
        },
        "outputId": "0f8c7465-c893-446a-8840-0ad117246a5d"
      },
      "source": [
        "# ToDo: Train your model and evaluate on holdout test set\n",
        "import mlflow.tensorflow as mltf\n",
        "\n",
        "mltf.autolog(every_n_iter=1)\n",
        "#model.build(784)\n",
        "model.fit(x=x_train, y=y_train, epochs=training_iters)\n",
        "score = model.evaluate(x=x_test, y=y_test)\n",
        "score"
      ],
      "execution_count": 25,
      "outputs": [
        {
          "output_type": "stream",
          "text": [
            "/usr/local/lib/python3.6/dist-packages/mlflow/utils/autologging_utils.py:60: DeprecationWarning: inspect.getargspec() is deprecated since Python 3.0, use inspect.signature() or inspect.getfullargspec()\n",
            "  all_param_names, _, _, all_default_values = inspect.getargspec(fn)  # pylint: disable=W1505\n"
          ],
          "name": "stderr"
        },
        {
          "output_type": "stream",
          "text": [
            "Epoch 1/20\n",
            "1750/1750 [==============================] - 4s 2ms/step - loss: 1.8002 - accuracy: 0.6605\n",
            "Epoch 2/20\n",
            "1750/1750 [==============================] - 4s 2ms/step - loss: 1.8166 - accuracy: 0.6444\n",
            "Epoch 3/20\n",
            "1750/1750 [==============================] - 4s 2ms/step - loss: 1.8307 - accuracy: 0.6303\n",
            "Epoch 4/20\n",
            "1750/1750 [==============================] - 4s 2ms/step - loss: 1.8107 - accuracy: 0.6505\n",
            "Epoch 5/20\n",
            "1750/1750 [==============================] - 4s 2ms/step - loss: 1.8198 - accuracy: 0.6414\n",
            "Epoch 6/20\n",
            "1750/1750 [==============================] - 4s 2ms/step - loss: 1.8207 - accuracy: 0.6404\n",
            "Epoch 7/20\n",
            "1750/1750 [==============================] - 4s 2ms/step - loss: 1.8366 - accuracy: 0.6246\n",
            "Epoch 8/20\n",
            "1750/1750 [==============================] - 4s 2ms/step - loss: 1.8167 - accuracy: 0.6444\n",
            "Epoch 9/20\n",
            "1750/1750 [==============================] - 4s 2ms/step - loss: 1.8091 - accuracy: 0.6520\n",
            "Epoch 10/20\n",
            "1750/1750 [==============================] - 4s 2ms/step - loss: 1.8256 - accuracy: 0.6356\n",
            "Epoch 11/20\n",
            "1750/1750 [==============================] - 4s 2ms/step - loss: 1.8120 - accuracy: 0.6491\n",
            "Epoch 12/20\n",
            "1750/1750 [==============================] - 4s 2ms/step - loss: 1.8120 - accuracy: 0.6492\n",
            "Epoch 13/20\n",
            "1750/1750 [==============================] - 4s 2ms/step - loss: 1.8078 - accuracy: 0.6534\n",
            "Epoch 14/20\n",
            "1750/1750 [==============================] - 4s 2ms/step - loss: 1.8030 - accuracy: 0.6581\n",
            "Epoch 15/20\n",
            "1750/1750 [==============================] - 4s 2ms/step - loss: 1.8183 - accuracy: 0.6429\n",
            "Epoch 16/20\n",
            "1750/1750 [==============================] - 4s 2ms/step - loss: 1.8070 - accuracy: 0.6542\n",
            "Epoch 17/20\n",
            "1750/1750 [==============================] - 4s 2ms/step - loss: 1.8162 - accuracy: 0.6449\n",
            "Epoch 18/20\n",
            "1750/1750 [==============================] - 4s 2ms/step - loss: 1.8154 - accuracy: 0.6457\n",
            "Epoch 19/20\n",
            "1750/1750 [==============================] - 4s 2ms/step - loss: 1.7960 - accuracy: 0.6652\n",
            "Epoch 20/20\n",
            "1750/1750 [==============================] - 4s 2ms/step - loss: 1.8052 - accuracy: 0.6559\n"
          ],
          "name": "stdout"
        },
        {
          "output_type": "stream",
          "text": [
            "Using TensorFlow backend.\n"
          ],
          "name": "stderr"
        },
        {
          "output_type": "stream",
          "text": [
            "438/438 [==============================] - 1s 1ms/step - loss: 1.8027 - accuracy: 0.6583\n"
          ],
          "name": "stdout"
        },
        {
          "output_type": "execute_result",
          "data": {
            "text/plain": [
              "[1.802692174911499, 0.6582857370376587]"
            ]
          },
          "metadata": {
            "tags": []
          },
          "execution_count": 25
        }
      ]
    },
    {
      "cell_type": "code",
      "metadata": {
        "id": "9qxwEjJQ63cW",
        "colab_type": "code",
        "colab": {}
      },
      "source": [
        ""
      ],
      "execution_count": 0,
      "outputs": []
    },
    {
      "cell_type": "code",
      "metadata": {
        "id": "kMVgAfKa63cY",
        "colab_type": "code",
        "colab": {}
      },
      "source": [
        ""
      ],
      "execution_count": 0,
      "outputs": []
    }
  ]
}